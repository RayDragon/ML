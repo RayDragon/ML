{
 "cells": [
  {
   "cell_type": "markdown",
   "metadata": {},
   "source": [
    "# Linear Regression\n",
    "- Linear : Singular quantity\n",
    "- Regression: Everything which progresses with time\n",
    "Linear regression is one of the easiest algorithm in machine learning\n",
    "***\n",
    "## Model Representaion"
   ]
  },
  {
   "cell_type": "markdown",
   "metadata": {},
   "source": [
    "In this problemwe have an input variable x and output variable y. We want to build linear relationship between these variables. Heare the input variable is called independant variable, and output variable is called dependnt variable. We can define this linear relationship as follows\n",
    "**Y=B0 + X.B1**\n",
    "The B1 is called a scale factor or coefficient and B0 is called bais coefficient. The bias coefficient gives an extra degree of freedom to this model. This equation is similar to the line equation y=mx+c with m=B1(Slope) and c=B0(intercept). So in this Somple Linear Regression model we want to draw a line between X and Y which assumes the relationship between X and Y\n",
    "***\n",
    "## Ordinary Least Square Method"
   ]
  },
  {
   "cell_type": "code",
   "execution_count": null,
   "metadata": {
    "collapsed": true
   },
   "outputs": [],
   "source": []
  }
 ],
 "metadata": {
  "kernelspec": {
   "display_name": "Python 3",
   "language": "python",
   "name": "python3"
  },
  "language_info": {
   "codemirror_mode": {
    "name": "ipython",
    "version": 3
   },
   "file_extension": ".py",
   "mimetype": "text/x-python",
   "name": "python",
   "nbconvert_exporter": "python",
   "pygments_lexer": "ipython3",
   "version": "3.6.1"
  }
 },
 "nbformat": 4,
 "nbformat_minor": 2
}
